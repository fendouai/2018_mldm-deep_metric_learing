{
 "cells": [
  {
   "cell_type": "code",
   "execution_count": 4,
   "metadata": {},
   "outputs": [
    {
     "name": "stdout",
     "output_type": "stream",
     "text": [
      "unix_bl_ja 0.69 0.840792\n",
      "bgl2_bl_ja 0.52 0.632659\n",
      "spirit2_bl_ja 0.515 0.960861\n",
      "trip_unix_xnon 1.4 0.550093\n",
      "trip_unix_l1000 1.26 0.865615\n",
      "trip_unix_l2500 0.88 0.998704\n",
      "trip_unix_l5000 0.68 0.999661\n",
      "trip_bgl2_nol 0.48 0.612392\n",
      "trip_bgl2_l1000 0.54 0.996283\n",
      "trip_bgl2_l2500 0.52 0.997167\n",
      "trip_bgl2_l5000 0.49 0.999034\n",
      "trip_spirit2_nol 0.7 0.990988\n",
      "trip_spirit2_l1000 0.45 0.997075\n",
      "trip_spirit2_l2500 0.45 0.997513\n",
      "trip_spirit2_l5000 0.71 0.998893\n"
     ]
    }
   ],
   "source": [
    "import library.helpers as h\n",
    "import numpy as np\n",
    "\n",
    "\n",
    "# baseline, triplet network\n",
    "to_load = [\n",
    "    # unix_forensic \n",
    "    (\"unix_bl_ja\",\"results/unix_forensic/basline-jaccard/01050-results.csv\",\"r\"), # baseline jaccard\n",
    "    (\"bgl2_bl_ja\",\"results/bgl2/basline-jaccard/09460-0.10-results.csv\",\"r\"), # baseline jaccard\n",
    "    (\"spirit2_bl_ja\",\"results/spirit2/basline-jaccard/06500-0.10-results.csv\",\"r\"), # baseline jaccard\n",
    "\n",
    "    # unix forensic\n",
    "    (\"trip_unix_xnon\", \"results/unix_forensic/jd-la-xnon-pt30-nt70-llall-lcall-ee00002-ep30/01050-results.csv\",\"g\"), # 2000 labelss\n",
    "    (\"trip_unix_l1000\", \"results/unix_forensic/jd-la-x01000-pt30-nt70-llall-lcall-ee00002-ep30/01050-results.csv\",\"g\"), # 2000 labelss\n",
    "    (\"trip_unix_l2500\", \"results/unix_forensic/jd-la-x02500-pt30-nt70-llall-lcall-ee00002-ep30/01050-results.csv\",\"g\"), # 2000 labelss\n",
    "    (\"trip_unix_l5000\", \"results/unix_forensic/jd-la-x05000-pt30-nt70-llall-lcall-ee00002-ep30/01050-results.csv\",\"g\"), # 2000 labelss\n",
    "\n",
    "    # bgl2\n",
    "    (\"trip_bgl2_nol\", \"results/bgl2/jd-la-xnon-pt30-nt70-llall-lcall-ee00002-ep30/09460-results.csv\",\"b\"), # 1000 labels\n",
    "    (\"trip_bgl2_l1000\", \"results/bgl2/jd-la-x01000-pt30-nt70-llall-lcall-ee00002-ep30/09460-results.csv\",\"b\"), # 1000 labels\n",
    "    (\"trip_bgl2_l2500\", \"results/bgl2/jd-la-x02500-pt30-nt70-llall-lcall-ee00002-ep30/09460-results.csv\",\"y\"), # 2500 labels\n",
    "    (\"trip_bgl2_l5000\", \"results/bgl2/jd-la-x05000-pt30-nt70-llall-lcall-ee00002-ep30/09460-results.csv\",\"g\"), # 5000 labels\n",
    "    # spirit 2\n",
    "    (\"trip_spirit2_nol\", \"results/spirit2/jd-la-xnon-pt30-nt70-llall-lcall-ee00002-ep30/07150-results.csv\",\"b\"), # 5000 labels\n",
    "    (\"trip_spirit2_l1000\", \"results/spirit2/jd-la-x01000-pt30-nt70-llall-lcall-ee00002-ep30/07150-results.csv\",\"b\"), # 5000 labels\n",
    "    (\"trip_spirit2_l2500\", \"results/spirit2/jd-la-x02500-pt30-nt70-llall-lcall-ee00002-ep30/07150-results.csv\",\"y\"), # 5000 labels\n",
    "    (\"trip_spirit2_l5000\", \"results/spirit2/jd-la-x05000-pt30-nt70-llall-lcall-ee00002-ep30/06500-results.csv\",\"g\"), # 5000 labels\n",
    "]\n",
    "\n",
    "for label, file_name, color in to_load:\n",
    "    data = np.array(h.load_from_csv(file_name)[1:])\n",
    "    thresholds = data[:,0].astype(\"float64\")\n",
    "    valid_rates = data[:,7].astype(\"float64\")\n",
    "    accuracy = data[:,9].astype(\"float64\")\n",
    "    \n",
    "    for i, vr in enumerate(valid_rates):\n",
    "        if np.round(vr,3)==1:\n",
    "            print(label, thresholds[i], accuracy[i])\n",
    "            break\n",
    "\n"
   ]
  },
  {
   "cell_type": "code",
   "execution_count": 7,
   "metadata": {},
   "outputs": [
    {
     "name": "stdout",
     "output_type": "stream",
     "text": [
      "class_unix_forensic_1000 0.728095238095\n",
      "class_unix_forensic_2500 0.912857142857\n",
      "class_unix_forensic_5000 0.96\n",
      "class_bgl2_1000 0.971501057082\n",
      "class_bgl2_2500 0.985665961945\n",
      "class_bgl2_5000 0.991374207188\n",
      "class_spirit2_1000 0.973076923077\n",
      "class_spirit2_2500 0.980713286713\n",
      "class_spirit2_5000 0.982867132867\n"
     ]
    }
   ],
   "source": [
    "from sklearn.metrics import accuracy_score\n",
    "\n",
    "to_load = [\n",
    "    (\"unix_forensic\", \"1000\", \"0.20\"),\n",
    "    (\"unix_forensic\", \"2500\", \"0.20\"),\n",
    "    (\"unix_forensic\", \"5000\", \"0.20\"),\n",
    "    (\"bgl2\", \"1000\", \"0.10\"),\n",
    "    (\"bgl2\", \"2500\", \"0.10\"),\n",
    "    (\"bgl2\", \"5000\", \"0.10\"),\n",
    "    (\"spirit2\", \"1000\", \"0.10\"),\n",
    "    (\"spirit2\", \"2500\", \"0.10\"),\n",
    "    (\"spirit2\", \"5000\", \"0.10\"),\n",
    "]\n",
    "\n",
    "\n",
    "for log, num_labels, test_fraction in to_load:\n",
    "    pred = h.load_from_json(\"results/%s/labels_predicted_%s-%s-0.80-30-class-x0%s-0.80-ep30.json\"%(log, num_labels,test_fraction, num_labels))\n",
    "    test = h.load_from_json(\"results/%s/labels_test_%s-%s-0.80-30-class-x0%s-0.80-ep30.json\"%(log, num_labels, test_fraction,  num_labels))\n",
    "    print(\"class_%s_%s\"%(log, num_labels), accuracy_score(test, pred))\n",
    "\n",
    "\n",
    "\n"
   ]
  },
  {
   "cell_type": "code",
   "execution_count": null,
   "metadata": {},
   "outputs": [],
   "source": []
  }
 ],
 "metadata": {
  "kernelspec": {
   "display_name": "Python 3",
   "language": "python",
   "name": "python3"
  },
  "language_info": {
   "codemirror_mode": {
    "name": "ipython",
    "version": 3
   },
   "file_extension": ".py",
   "mimetype": "text/x-python",
   "name": "python",
   "nbconvert_exporter": "python",
   "pygments_lexer": "ipython3",
   "version": "3.5.3"
  },
  "toc": {
   "nav_menu": {},
   "number_sections": true,
   "sideBar": true,
   "skip_h1_title": false,
   "toc_cell": false,
   "toc_position": {},
   "toc_section_display": "block",
   "toc_window_display": false
  }
 },
 "nbformat": 4,
 "nbformat_minor": 2
}
